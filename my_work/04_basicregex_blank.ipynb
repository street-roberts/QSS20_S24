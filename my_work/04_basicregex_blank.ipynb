{
 "cells": [
  {
   "cell_type": "markdown",
   "metadata": {},
   "source": [
    "# Imports"
   ]
  },
  {
   "cell_type": "code",
   "execution_count": 1,
   "metadata": {},
   "outputs": [],
   "source": [
    "## imports\n",
    "import pandas as pd\n",
    "import re\n",
    "import numpy as np\n",
    "\n",
    "## print multiple things from same cell\n",
    "from IPython.core.interactiveshell import InteractiveShell\n",
    "InteractiveShell.ast_node_interactivity = \"all\""
   ]
  },
  {
   "cell_type": "markdown",
   "metadata": {},
   "source": [
    "# Load data and show examples"
   ]
  },
  {
   "cell_type": "code",
   "execution_count": 2,
   "metadata": {},
   "outputs": [
    {
     "data": {
      "text/html": [
       "<div>\n",
       "<style scoped>\n",
       "    .dataframe tbody tr th:only-of-type {\n",
       "        vertical-align: middle;\n",
       "    }\n",
       "\n",
       "    .dataframe tbody tr th {\n",
       "        vertical-align: top;\n",
       "    }\n",
       "\n",
       "    .dataframe thead th {\n",
       "        text-align: right;\n",
       "    }\n",
       "</style>\n",
       "<table border=\"1\" class=\"dataframe\">\n",
       "  <thead>\n",
       "    <tr style=\"text-align: right;\">\n",
       "      <th></th>\n",
       "      <th>schoolname</th>\n",
       "      <th>individualispjune2020</th>\n",
       "      <th>participatingincepsy2021</th>\n",
       "      <th>is_elem_exercise</th>\n",
       "      <th>is_charter_exercise</th>\n",
       "      <th>is_highschool_exercise</th>\n",
       "    </tr>\n",
       "  </thead>\n",
       "  <tbody>\n",
       "    <tr>\n",
       "      <th>0</th>\n",
       "      <td>stove prairie elementary school</td>\n",
       "      <td>0</td>\n",
       "      <td>N</td>\n",
       "      <td>True</td>\n",
       "      <td>False</td>\n",
       "      <td>False</td>\n",
       "    </tr>\n",
       "    <tr>\n",
       "      <th>1</th>\n",
       "      <td>stewart county elementary school</td>\n",
       "      <td>0.7603</td>\n",
       "      <td>Y</td>\n",
       "      <td>True</td>\n",
       "      <td>False</td>\n",
       "      <td>False</td>\n",
       "    </tr>\n",
       "    <tr>\n",
       "      <th>2</th>\n",
       "      <td>desert springs elementary school</td>\n",
       "      <td>NaN</td>\n",
       "      <td>N</td>\n",
       "      <td>True</td>\n",
       "      <td>False</td>\n",
       "      <td>False</td>\n",
       "    </tr>\n",
       "    <tr>\n",
       "      <th>3</th>\n",
       "      <td>saunemin elem school</td>\n",
       "      <td>0.38939999999999997</td>\n",
       "      <td>N</td>\n",
       "      <td>True</td>\n",
       "      <td>False</td>\n",
       "      <td>False</td>\n",
       "    </tr>\n",
       "    <tr>\n",
       "      <th>4</th>\n",
       "      <td>fifth district elementary</td>\n",
       "      <td>0.0275</td>\n",
       "      <td>N</td>\n",
       "      <td>True</td>\n",
       "      <td>False</td>\n",
       "      <td>False</td>\n",
       "    </tr>\n",
       "  </tbody>\n",
       "</table>\n",
       "</div>"
      ],
      "text/plain": [
       "                         schoolname individualispjune2020  \\\n",
       "0   stove prairie elementary school                     0   \n",
       "1  stewart county elementary school                0.7603   \n",
       "2  desert springs elementary school                   NaN   \n",
       "3              saunemin elem school   0.38939999999999997   \n",
       "4         fifth district elementary                0.0275   \n",
       "\n",
       "  participatingincepsy2021  is_elem_exercise  is_charter_exercise  \\\n",
       "0                        N              True                False   \n",
       "1                        Y              True                False   \n",
       "2                        N              True                False   \n",
       "3                        N              True                False   \n",
       "4                        N              True                False   \n",
       "\n",
       "   is_highschool_exercise  \n",
       "0                   False  \n",
       "1                   False  \n",
       "2                   False  \n",
       "3                   False  \n",
       "4                   False  "
      ]
     },
     "execution_count": 2,
     "metadata": {},
     "output_type": "execute_result"
    }
   ],
   "source": [
    "schools_df = pd.read_csv(\"../public_data/schools_df.csv\")\n",
    "schools_df.head()"
   ]
  },
  {
   "cell_type": "markdown",
   "metadata": {},
   "source": [
    "# re.sub illustration\n",
    "\n",
    "**Task**: \n",
    "\n",
    "- Use the `school_df` dataset and filter to `is_elem_exercise` == True \n",
    "- Using the `schoolname` field, replace the different varieties of elementary school in the data with `elemschool` "
   ]
  },
  {
   "cell_type": "markdown",
   "metadata": {},
   "source": [
    "## Incorrect approach \n",
    "\n",
    "Returns incorrect results that we'll see below"
   ]
  },
  {
   "cell_type": "code",
   "execution_count": 3,
   "metadata": {},
   "outputs": [
    {
     "data": {
      "text/html": [
       "<div>\n",
       "<style scoped>\n",
       "    .dataframe tbody tr th:only-of-type {\n",
       "        vertical-align: middle;\n",
       "    }\n",
       "\n",
       "    .dataframe tbody tr th {\n",
       "        vertical-align: top;\n",
       "    }\n",
       "\n",
       "    .dataframe thead th {\n",
       "        text-align: right;\n",
       "    }\n",
       "</style>\n",
       "<table border=\"1\" class=\"dataframe\">\n",
       "  <thead>\n",
       "    <tr style=\"text-align: right;\">\n",
       "      <th></th>\n",
       "      <th>schoolname</th>\n",
       "      <th>individualispjune2020</th>\n",
       "      <th>participatingincepsy2021</th>\n",
       "      <th>is_elem_exercise</th>\n",
       "      <th>is_charter_exercise</th>\n",
       "      <th>is_highschool_exercise</th>\n",
       "    </tr>\n",
       "  </thead>\n",
       "  <tbody>\n",
       "    <tr>\n",
       "      <th>0</th>\n",
       "      <td>stove prairie elementary school</td>\n",
       "      <td>0</td>\n",
       "      <td>N</td>\n",
       "      <td>True</td>\n",
       "      <td>False</td>\n",
       "      <td>False</td>\n",
       "    </tr>\n",
       "    <tr>\n",
       "      <th>1</th>\n",
       "      <td>stewart county elementary school</td>\n",
       "      <td>0.7603</td>\n",
       "      <td>Y</td>\n",
       "      <td>True</td>\n",
       "      <td>False</td>\n",
       "      <td>False</td>\n",
       "    </tr>\n",
       "    <tr>\n",
       "      <th>2</th>\n",
       "      <td>desert springs elementary school</td>\n",
       "      <td>NaN</td>\n",
       "      <td>N</td>\n",
       "      <td>True</td>\n",
       "      <td>False</td>\n",
       "      <td>False</td>\n",
       "    </tr>\n",
       "    <tr>\n",
       "      <th>3</th>\n",
       "      <td>saunemin elem school</td>\n",
       "      <td>0.38939999999999997</td>\n",
       "      <td>N</td>\n",
       "      <td>True</td>\n",
       "      <td>False</td>\n",
       "      <td>False</td>\n",
       "    </tr>\n",
       "    <tr>\n",
       "      <th>4</th>\n",
       "      <td>fifth district elementary</td>\n",
       "      <td>0.0275</td>\n",
       "      <td>N</td>\n",
       "      <td>True</td>\n",
       "      <td>False</td>\n",
       "      <td>False</td>\n",
       "    </tr>\n",
       "  </tbody>\n",
       "</table>\n",
       "</div>"
      ],
      "text/plain": [
       "                         schoolname individualispjune2020  \\\n",
       "0   stove prairie elementary school                     0   \n",
       "1  stewart county elementary school                0.7603   \n",
       "2  desert springs elementary school                   NaN   \n",
       "3              saunemin elem school   0.38939999999999997   \n",
       "4         fifth district elementary                0.0275   \n",
       "\n",
       "  participatingincepsy2021  is_elem_exercise  is_charter_exercise  \\\n",
       "0                        N              True                False   \n",
       "1                        Y              True                False   \n",
       "2                        N              True                False   \n",
       "3                        N              True                False   \n",
       "4                        N              True                False   \n",
       "\n",
       "   is_highschool_exercise  \n",
       "0                   False  \n",
       "1                   False  \n",
       "2                   False  \n",
       "3                   False  \n",
       "4                   False  "
      ]
     },
     "execution_count": 3,
     "metadata": {},
     "output_type": "execute_result"
    }
   ],
   "source": [
    "elem_ex = schools_df[schools_df.is_elem_exercise].copy()\n",
    "elem_ex.head()"
   ]
  },
  {
   "cell_type": "code",
   "execution_count": null,
   "metadata": {},
   "outputs": [],
   "source": [
    "elem_pattern = r\"elementary|elem|elem\\.|elementary school\"\n",
    "\n",
    "new_schools = [re.sub(elem_pattern, \"elemschool\", school) \n",
    "               for school in elem_ex.schoolname]\n",
    "\n",
    "elem_ex['cleaned_name_try1'] = new_schools\n",
    "elem_ex[[\"schoolname\", \"cleaned_name_try1\"]]"
   ]
  },
  {
   "cell_type": "markdown",
   "metadata": {},
   "source": [
    "## A correct approach\n",
    "\n",
    "Addresses issues above with `elementary school` and `elem.`"
   ]
  },
  {
   "cell_type": "code",
   "execution_count": null,
   "metadata": {},
   "outputs": [],
   "source": [
    "elem_pattern_try2 = r\"(elem.*)(\\s+)?(school)?\"\n",
    "    \n",
    "new_schools_try2 = [re.sub(elem_pattern_try2, \"elemschool\", school) \n",
    "                    for school in elem_ex.schoolname]    \n",
    "\n",
    "elem_ex['cleaned_name_try2'] = new_schools_try2\n",
    "elem_ex[[\"schoolname\", \"cleaned_name_try1\", \"cleaned_name_try2\"]]"
   ]
  },
  {
   "cell_type": "markdown",
   "metadata": {},
   "source": [
    "# re.findall and re.search illustrations"
   ]
  },
  {
   "cell_type": "markdown",
   "metadata": {},
   "source": [
    "**Task**: \n",
    "\n",
    "- Filter to `is_charter_exercise` == True; note that this contains a mix of schools with charter in the name and schools without\n",
    "- Construct a pattern that, for charter schools, gets the school name prior to appearance of the word charter. School names without charter will not have matches (so Hanover Charter becomes Hanover; Hanover High stays Hanover High)\n"
   ]
  },
  {
   "cell_type": "markdown",
   "metadata": {},
   "source": [
    "## re.findall "
   ]
  },
  {
   "cell_type": "code",
   "execution_count": null,
   "metadata": {},
   "outputs": [],
   "source": [
    "## filter to charter exercise\n",
    "charter_ex = schools_df[schools_df.is_charter_exercise].copy()\n",
    "charter_ex.head(6)"
   ]
  },
  {
   "cell_type": "code",
   "execution_count": null,
   "metadata": {},
   "outputs": [],
   "source": [
    "## charter pattern\n",
    "charter_pattern = r\"(.*)\\s+(charter)(\\s+)?(\\w+)?\"\n",
    "\n",
    "## findall \n",
    "test_charter_findall = [re.findall(charter_pattern, school) \n",
    "                        for school in charter_ex.schoolname]\n",
    "\n",
    "## print result\n",
    "test_charter_findall"
   ]
  },
  {
   "cell_type": "code",
   "execution_count": null,
   "metadata": {},
   "outputs": [],
   "source": [
    "## show example of one\n",
    "print(test_charter_findall[1][0][0])"
   ]
  },
  {
   "cell_type": "markdown",
   "metadata": {},
   "source": [
    "## re.search"
   ]
  },
  {
   "cell_type": "code",
   "execution_count": null,
   "metadata": {},
   "outputs": [],
   "source": [
    "## get matches\n",
    "test_charter_search = [re.search(charter_pattern, school) \n",
    "                       for school in charter_ex.schoolname]\n",
    "\n",
    "test_charter_search\n"
   ]
  },
  {
   "cell_type": "code",
   "execution_count": null,
   "metadata": {},
   "outputs": [],
   "source": [
    "## extract matches\n",
    "\n",
    "### here, we're just focusing on the 3rd match or the 6th entry (thomas edison charter academy)\n",
    "### and we're getting the first group from that match\n",
    "thomas_match = test_charter_search[5]\n",
    "thomas_match\n",
    "\n",
    "### example where we're just getting the first group\n",
    "### (name of school before charter)\n",
    "thomas_firstgroup = thomas_match.group(1)\n",
    "thomas_firstgroup\n"
   ]
  },
  {
   "cell_type": "code",
   "execution_count": null,
   "metadata": {},
   "outputs": [],
   "source": [
    "### iterate over all groups and print\n",
    "for i in range(0, len(thomas_match.groups())+1):\n",
    "    print(\"Group \" + str(i) + \" is: \")\n",
    "    print(thomas_match.group(i))\n",
    "\n",
    "## see error if we go beyond actual number of \n",
    "## groups thomas_match.group(5)"
   ]
  },
  {
   "cell_type": "code",
   "execution_count": null,
   "metadata": {},
   "outputs": [],
   "source": [
    "## can also extract the groups as a tuple\n",
    "## example- want to return group 1 and group 2 and paste together\n",
    "thomas_groups_all = thomas_match.groups()\n",
    "thomas_groups_all\n",
    "\n",
    "## slice the tuple\n",
    "thomas_groups_all[0:2]\n"
   ]
  },
  {
   "cell_type": "code",
   "execution_count": null,
   "metadata": {},
   "outputs": [],
   "source": [
    "## can generalize to the full list with ifelse\n",
    "def get_precharter_name(one_matchobj):\n",
    "    \n",
    "    if one_matchobj:\n",
    "        school_name = one_matchobj.group(1)\n",
    "    else:\n",
    "        school_name = \"\"\n",
    "    \n",
    "    return(school_name)\n",
    "\n",
    "all_charter_match = [get_precharter_name(one_search) \n",
    "                    for one_search in test_charter_search]\n",
    "\n",
    "all_charter_match"
   ]
  },
  {
   "cell_type": "markdown",
   "metadata": {},
   "source": [
    "# Group activity\n",
    "\n",
    "## Part 1: Subsetting\n",
    "Filter the data to only those rows where `is_highschool_exercise` is True."
   ]
  },
  {
   "cell_type": "code",
   "execution_count": 16,
   "metadata": {},
   "outputs": [
    {
     "data": {
      "text/html": [
       "<div>\n",
       "<style scoped>\n",
       "    .dataframe tbody tr th:only-of-type {\n",
       "        vertical-align: middle;\n",
       "    }\n",
       "\n",
       "    .dataframe tbody tr th {\n",
       "        vertical-align: top;\n",
       "    }\n",
       "\n",
       "    .dataframe thead th {\n",
       "        text-align: right;\n",
       "    }\n",
       "</style>\n",
       "<table border=\"1\" class=\"dataframe\">\n",
       "  <thead>\n",
       "    <tr style=\"text-align: right;\">\n",
       "      <th></th>\n",
       "      <th>schoolname</th>\n",
       "      <th>individualispjune2020</th>\n",
       "      <th>participatingincepsy2021</th>\n",
       "      <th>is_elem_exercise</th>\n",
       "      <th>is_charter_exercise</th>\n",
       "      <th>is_highschool_exercise</th>\n",
       "    </tr>\n",
       "  </thead>\n",
       "  <tbody>\n",
       "    <tr>\n",
       "      <th>26</th>\n",
       "      <td>mount pleasant area jshs</td>\n",
       "      <td>NaN</td>\n",
       "      <td>N</td>\n",
       "      <td>False</td>\n",
       "      <td>False</td>\n",
       "      <td>True</td>\n",
       "    </tr>\n",
       "    <tr>\n",
       "      <th>27</th>\n",
       "      <td>huron high school</td>\n",
       "      <td>0.2867</td>\n",
       "      <td>N</td>\n",
       "      <td>False</td>\n",
       "      <td>False</td>\n",
       "      <td>True</td>\n",
       "    </tr>\n",
       "    <tr>\n",
       "      <th>28</th>\n",
       "      <td>thomson high school</td>\n",
       "      <td>0.4065</td>\n",
       "      <td>Y</td>\n",
       "      <td>False</td>\n",
       "      <td>False</td>\n",
       "      <td>True</td>\n",
       "    </tr>\n",
       "    <tr>\n",
       "      <th>29</th>\n",
       "      <td>kings county office of education highland faci...</td>\n",
       "      <td>NaN</td>\n",
       "      <td>N</td>\n",
       "      <td>False</td>\n",
       "      <td>False</td>\n",
       "      <td>True</td>\n",
       "    </tr>\n",
       "    <tr>\n",
       "      <th>30</th>\n",
       "      <td>clovis east high</td>\n",
       "      <td>0.2634956587391468</td>\n",
       "      <td>N</td>\n",
       "      <td>False</td>\n",
       "      <td>False</td>\n",
       "      <td>True</td>\n",
       "    </tr>\n",
       "  </tbody>\n",
       "</table>\n",
       "</div>"
      ],
      "text/plain": [
       "                                           schoolname individualispjune2020  \\\n",
       "26                           mount pleasant area jshs                   NaN   \n",
       "27                                  huron high school                0.2867   \n",
       "28                                thomson high school                0.4065   \n",
       "29  kings county office of education highland faci...                   NaN   \n",
       "30                                   clovis east high    0.2634956587391468   \n",
       "\n",
       "   participatingincepsy2021  is_elem_exercise  is_charter_exercise  \\\n",
       "26                        N             False                False   \n",
       "27                        N             False                False   \n",
       "28                        Y             False                False   \n",
       "29                        N             False                False   \n",
       "30                        N             False                False   \n",
       "\n",
       "    is_highschool_exercise  \n",
       "26                    True  \n",
       "27                    True  \n",
       "28                    True  \n",
       "29                    True  \n",
       "30                    True  "
      ]
     },
     "execution_count": 16,
     "metadata": {},
     "output_type": "execute_result"
    }
   ],
   "source": [
    "high_ex = schools_df[schools_df.is_highschool_exercise].copy()\n",
    "high_ex.head()\n",
    "\n",
    "# hs, high, high school, \"kings county office of education highland faci...\""
   ]
  },
  {
   "cell_type": "markdown",
   "metadata": {},
   "source": [
    "## Part 2: Standardizing names\n",
    "To find the names of high schools, try out some regex patterns to standardize the high school names (e.g., 'high school' and 'high' could both become 'highschool'). AKA make everything 'highschool.'\n",
    "\n",
    "**Hint:** Look at the school names for hints on what to avoid matching--e.g., 'highland facility'. To avoid things like this, after 'high' or 'hs', have your pattern look for a space (`\\s`) or the end of the string (`$`). "
   ]
  },
  {
   "cell_type": "code",
   "execution_count": 56,
   "metadata": {},
   "outputs": [
    {
     "data": {
      "text/html": [
       "<div>\n",
       "<style scoped>\n",
       "    .dataframe tbody tr th:only-of-type {\n",
       "        vertical-align: middle;\n",
       "    }\n",
       "\n",
       "    .dataframe tbody tr th {\n",
       "        vertical-align: top;\n",
       "    }\n",
       "\n",
       "    .dataframe thead th {\n",
       "        text-align: right;\n",
       "    }\n",
       "</style>\n",
       "<table border=\"1\" class=\"dataframe\">\n",
       "  <thead>\n",
       "    <tr style=\"text-align: right;\">\n",
       "      <th></th>\n",
       "      <th>schoolname</th>\n",
       "      <th>hs_cleaned_name</th>\n",
       "    </tr>\n",
       "  </thead>\n",
       "  <tbody>\n",
       "    <tr>\n",
       "      <th>26</th>\n",
       "      <td>mount pleasant area jshs</td>\n",
       "      <td>mount pleasant area highschool</td>\n",
       "    </tr>\n",
       "    <tr>\n",
       "      <th>27</th>\n",
       "      <td>huron high school</td>\n",
       "      <td>huron highschool</td>\n",
       "    </tr>\n",
       "    <tr>\n",
       "      <th>28</th>\n",
       "      <td>thomson high school</td>\n",
       "      <td>thomson highschool</td>\n",
       "    </tr>\n",
       "    <tr>\n",
       "      <th>29</th>\n",
       "      <td>kings county office of education highland faci...</td>\n",
       "      <td>kings county office of education highland faci...</td>\n",
       "    </tr>\n",
       "    <tr>\n",
       "      <th>30</th>\n",
       "      <td>clovis east high</td>\n",
       "      <td>clovis east highschool</td>\n",
       "    </tr>\n",
       "    <tr>\n",
       "      <th>31</th>\n",
       "      <td>camden jr. high school</td>\n",
       "      <td>camden jr. highschool</td>\n",
       "    </tr>\n",
       "    <tr>\n",
       "      <th>32</th>\n",
       "      <td>jackson junior high</td>\n",
       "      <td>jackson junior highschool</td>\n",
       "    </tr>\n",
       "    <tr>\n",
       "      <th>33</th>\n",
       "      <td>emmett junior high school</td>\n",
       "      <td>emmett junior highschool</td>\n",
       "    </tr>\n",
       "    <tr>\n",
       "      <th>34</th>\n",
       "      <td>atkins high</td>\n",
       "      <td>atkins highschool</td>\n",
       "    </tr>\n",
       "    <tr>\n",
       "      <th>35</th>\n",
       "      <td>lexington senior high</td>\n",
       "      <td>lexington senior highschool</td>\n",
       "    </tr>\n",
       "    <tr>\n",
       "      <th>36</th>\n",
       "      <td>temple hs</td>\n",
       "      <td>temple highschool</td>\n",
       "    </tr>\n",
       "    <tr>\n",
       "      <th>37</th>\n",
       "      <td>forest hill high school</td>\n",
       "      <td>forest hill highschool</td>\n",
       "    </tr>\n",
       "    <tr>\n",
       "      <th>38</th>\n",
       "      <td>pittsfield high</td>\n",
       "      <td>pittsfield highschool</td>\n",
       "    </tr>\n",
       "    <tr>\n",
       "      <th>39</th>\n",
       "      <td>matanzas high school</td>\n",
       "      <td>matanzas highschool</td>\n",
       "    </tr>\n",
       "    <tr>\n",
       "      <th>40</th>\n",
       "      <td>pontiac high school</td>\n",
       "      <td>pontiac highschool</td>\n",
       "    </tr>\n",
       "  </tbody>\n",
       "</table>\n",
       "</div>"
      ],
      "text/plain": [
       "                                           schoolname  \\\n",
       "26                           mount pleasant area jshs   \n",
       "27                                  huron high school   \n",
       "28                                thomson high school   \n",
       "29  kings county office of education highland faci...   \n",
       "30                                   clovis east high   \n",
       "31                             camden jr. high school   \n",
       "32                                jackson junior high   \n",
       "33                          emmett junior high school   \n",
       "34                                        atkins high   \n",
       "35                              lexington senior high   \n",
       "36                                          temple hs   \n",
       "37                            forest hill high school   \n",
       "38                                    pittsfield high   \n",
       "39                               matanzas high school   \n",
       "40                                pontiac high school   \n",
       "\n",
       "                                      hs_cleaned_name  \n",
       "26                     mount pleasant area highschool  \n",
       "27                                   huron highschool  \n",
       "28                                 thomson highschool  \n",
       "29  kings county office of education highland faci...  \n",
       "30                             clovis east highschool  \n",
       "31                              camden jr. highschool  \n",
       "32                          jackson junior highschool  \n",
       "33                           emmett junior highschool  \n",
       "34                                  atkins highschool  \n",
       "35                        lexington senior highschool  \n",
       "36                                  temple highschool  \n",
       "37                             forest hill highschool  \n",
       "38                              pittsfield highschool  \n",
       "39                                matanzas highschool  \n",
       "40                                 pontiac highschool  "
      ]
     },
     "execution_count": 56,
     "metadata": {},
     "output_type": "execute_result"
    }
   ],
   "source": [
    "# your code here\n",
    "# hs_sub_pattern = r\"[yourcodehere]\"\n",
    "\n",
    "# Try testing it on a few strings first\n",
    "hs_sub_pattern = r\"(high.*|hs.*)(\\s+)?(school)?\"\n",
    "hs_sub_pattern = r\"(high$|hs.*)(\\s+)?(school)?\"\n",
    "\n",
    "hs_sub_pattern = r\"(high$)|(high)\\s(school)?|(hs$)|(jshs$)\"\n",
    "    \n",
    "new_schools = [re.sub(hs_sub_pattern, \"highschool\", school) \n",
    "                    for school in high_ex.schoolname]    \n",
    "\n",
    "high_ex[\"hs_cleaned_name\"] = new_schools\n",
    "\n",
    "\n",
    "high_ex[[\"schoolname\", \"hs_cleaned_name\"]]\n"
   ]
  },
  {
   "cell_type": "code",
   "execution_count": null,
   "metadata": {},
   "outputs": [],
   "source": [
    "# your code here to standardize high school names"
   ]
  },
  {
   "cell_type": "markdown",
   "metadata": {},
   "source": [
    "## Part 3: Match schools\n",
    "Using some example results, try writing a regex pattern and using `re.match` to get the name of the school that precedes the 'highschool' part of the name (e.g., 'new trier highschool' -> 'new trier')"
   ]
  },
  {
   "cell_type": "code",
   "execution_count": 57,
   "metadata": {},
   "outputs": [
    {
     "ename": "SyntaxError",
     "evalue": "unterminated string literal (detected at line 1) (126788479.py, line 1)",
     "output_type": "error",
     "traceback": [
      "\u001b[0;36m  Cell \u001b[0;32mIn[57], line 1\u001b[0;36m\u001b[0m\n\u001b[0;31m    hs_match_pattern = r\"(.*high | .*hs)\u001b[0m\n\u001b[0m                       ^\u001b[0m\n\u001b[0;31mSyntaxError\u001b[0m\u001b[0;31m:\u001b[0m unterminated string literal (detected at line 1)\n"
     ]
    }
   ],
   "source": [
    "# hs_match_pattern = r\"(.*high | .*hs)\n",
    "\n",
    "# new_precedes = [re.sub(hs_match_pattern, \"highschool\", school) \n",
    "                    for school in high_ex.schoolname]  \n",
    "\n",
    "\n",
    "hs_before_pattern = r”(.*)\\s+(highschool)”\n",
    "before_hs_names = [re.match(hs_before_pattern, one_str) for one_str in hs_df.standardized_highschool]\n",
    "hs_df[‘before_highschool’] = before_hs_names\n",
    "hs_df.head()\n",
    "before_hs_list = []\n",
    "for name in hs_df.before_highschool:\n",
    "    before_hs_list.append(name[1])\n",
    "before_hs_list\n",
    "hs_df[‘before_highschool_name’] = before_hs_list\n",
    "hs_df.head()"
   ]
  },
  {
   "cell_type": "code",
   "execution_count": null,
   "metadata": {},
   "outputs": [],
   "source": [
    "schoolname_preh_matchob = [re.match(prehs_pattern, school) \n",
    "                           for school in test_pat_examples]\n",
    "\n",
    "schoolname_preh_\n",
    "\n",
    "schooname_preh = [obj.group(1) if obj else \"\"\n",
    "                  for obj in schooname_preh_matchobj]\n",
    "schoolname_preh"
   ]
  },
  {
   "cell_type": "code",
   "execution_count": null,
   "metadata": {},
   "outputs": [],
   "source": []
  },
  {
   "cell_type": "code",
   "execution_count": null,
   "metadata": {},
   "outputs": [],
   "source": []
  }
 ],
 "metadata": {
  "kernelspec": {
   "display_name": "Python 3 (ipykernel)",
   "language": "python",
   "name": "python3"
  },
  "language_info": {
   "codemirror_mode": {
    "name": "ipython",
    "version": 3
   },
   "file_extension": ".py",
   "mimetype": "text/x-python",
   "name": "python",
   "nbconvert_exporter": "python",
   "pygments_lexer": "ipython3",
   "version": "3.11.7"
  }
 },
 "nbformat": 4,
 "nbformat_minor": 4
}
